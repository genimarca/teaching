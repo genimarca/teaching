{
 "cells": [
  {
   "cell_type": "code",
   "execution_count": 1,
   "metadata": {
    "colab": {
     "autoexec": {
      "startup": false,
      "wait_interval": 0
     }
    },
    "colab_type": "code",
    "id": "2W-rb0kgDpMR"
   },
   "outputs": [],
   "source": [
    "def load_dataset():\n",
    "    \"\"\"Lectura en memoria del dataset\n",
    "    \n",
    "    Returns: Una lista de transacciones.\n",
    "    \"\"\"\n",
    "    return [[1, 3, 4], [2, 3, 5], [1, 2, 3, 5], [2, 5]]"
   ]
  },
  {
   "cell_type": "code",
   "execution_count": 2,
   "metadata": {
    "colab": {
     "autoexec": {
      "startup": false,
      "wait_interval": 0
     }
    },
    "colab_type": "code",
    "id": "zmKLPscCDvkb"
   },
   "outputs": [],
   "source": [
    "def create_base_of_items_c0(data_base_transactions):\n",
    "    \"\"\"Generación del conjunto de items\n",
    "    \n",
    "    Returns: Lista con los items\n",
    "    \"\"\"\n",
    "    items = []\n",
    "    for transaction in data_base_transactions:\n",
    "        for item in transaction:\n",
    "            f_item = frozenset([item])\n",
    "            if not f_item in items:\n",
    "                items.append(frozenset([item])) #Truco para hacer más eficiente el cálculo del soporte\n",
    "    items.sort(key=lambda x:list(x))\n",
    "    return items\n",
    "  \n",
    " "
   ]
  },
  {
   "cell_type": "code",
   "execution_count": 3,
   "metadata": {
    "colab": {
     "autoexec": {
      "startup": false,
      "wait_interval": 0
     }
    },
    "colab_type": "code",
    "id": "T-ZrKYHDEe6O"
   },
   "outputs": [],
   "source": [
    "def create_lk(data_base_transactions, Ck, min_support):\n",
    "    \"\"\"Cálculo de los itemsets frecuentes.\n",
    "    \n",
    "    Args:\n",
    "        data_base_transactions: Lista de transacciones\n",
    "        Ck: lista de itemsets candidatos\n",
    "        minSupport: Valor real que indica el soporte mínimo de los \n",
    "        conjuntos frecuentes (itermsets).\n",
    "    \"\"\"\n",
    "    lk = {}\n",
    "    soporte_unitario = 1/len(data_base_transactions)\n",
    "    for transaction in data_base_transactions:\n",
    "        for item in Ck:\n",
    "            if item.issubset(transaction):\n",
    "                #Uso del valor por defecto de get para ahorrar un if\n",
    "                #Suma de 1/n_transacciones para evitar luego tener que hacer otro bucle para normalizar\n",
    "                lk[item] = lk.get(item, 0) + soporte_unitario #Uso del valor por defecto de get para ahorrar un if\n",
    "    lk = {item:support for item, support in lk.items() if support >= min_support}\n",
    "    return lk"
   ]
  },
  {
   "cell_type": "code",
   "execution_count": 4,
   "metadata": {
    "colab": {
     "autoexec": {
      "startup": false,
      "wait_interval": 0
     }
    },
    "colab_type": "code",
    "id": "64Ef6mFPEf7P"
   },
   "outputs": [],
   "source": [
    "def create_ck(Lk_1, k):\n",
    "    \"\"\"Genera los conjuntos candidatos de longitud k\n",
    "    \n",
    "    Args:\n",
    "        Lk_1: lista de conjuntos con soporte de longitud k-1\n",
    "        k: Nueva longitud\n",
    "    \n",
    "    \"\"\"\n",
    "    ck_next = []\n",
    "    n_itemsets = len(Lk_1)\n",
    "    for i in range(n_itemsets):\n",
    "        for j in range(i+1, n_itemsets):\n",
    "            c1 = sorted(list(Lk_1[i])[:k-2])\n",
    "            c2 = sorted(list(Lk_1[j])[:k-2])\n",
    "            if c1 == c2: #Prefijos iguales\n",
    "                ck_next.append(Lk_1[i] | Lk_1[j]) #Unión de conjuntos\n",
    "    return ck_next"
   ]
  },
  {
   "cell_type": "code",
   "execution_count": 5,
   "metadata": {
    "colab": {
     "autoexec": {
      "startup": false,
      "wait_interval": 0
     }
    },
    "colab_type": "code",
    "id": "rnbm2vW_EjKp"
   },
   "outputs": [],
   "source": [
    "def apriori(database_transactions, min_support=0.5):\n",
    "    \"\"\"Generación de los conjuntos de items frecuentes\n",
    "    \n",
    "    Args:\n",
    "        database_transactions: Lista de transacciones\n",
    "    \"\"\"\n",
    "    \n",
    "    #Generación del conjunto inicial de items\n",
    "    c0 = create_base_of_items_c0(database_transactions)\n",
    "    l1 = create_lk(database_transactions, c0, min_support)\n",
    "    lk = [l1]\n",
    "    k=2\n",
    "    while len(lk[k-2]) > 0:\n",
    "        ck = create_ck(list(lk[k-2].keys()), k)\n",
    "        l1_next = create_lk(database_transactions, ck, min_support)\n",
    "        lk.append(l1_next)\n",
    "        k += 1\n",
    "    return lk"
   ]
  },
  {
   "cell_type": "code",
   "execution_count": 6,
   "metadata": {
    "colab": {
     "autoexec": {
      "startup": false,
      "wait_interval": 0
     }
    },
    "colab_type": "code",
    "id": "VOJ-DON8EnSY"
   },
   "outputs": [],
   "source": [
    "def calculate_conf(lk, freq_item_set, h1, min_conf):\n",
    "    \"\"\"Generara aquellas reglas del conjunto de items frecuentes que\n",
    "    supera el umbral de confianza\n",
    "    \"\"\"\n",
    "    \n",
    "    rules = []\n",
    "    for consequent in h1:\n",
    "        conf = lk[freq_item_set]/lk[freq_item_set-consequent]\n",
    "        if conf >= min_conf:\n",
    "            rules.append((freq_item_set-consequent, consequent, conf))\n",
    "    return rules"
   ]
  },
  {
   "cell_type": "code",
   "execution_count": 7,
   "metadata": {
    "colab": {
     "autoexec": {
      "startup": false,
      "wait_interval": 0
     }
    },
    "colab_type": "code",
    "id": "PhT8BBLmEpZ_"
   },
   "outputs": [],
   "source": [
    "def rules_from_consequent(lk, freq_item_set, h1, min_conf):\n",
    "    \n",
    "    n_consequents = len(h1)\n",
    "    rules = []\n",
    "    if len(freq_item_set) > (n_consequents + 1):\n",
    "        ck_consequents = create_ck(h1, n_consequents+1)\n",
    "        rules_consequents = calculate_conf(lk, ck_consequents, h1, min_conf)\n",
    "        if len(rules_consequents) > 1:\n",
    "            rules.append(rules_from_consequent(lk, freq_item_set, rules_consequents, min_conf))\n",
    "        else:\n",
    "            return rules_consequents"
   ]
  },
  {
   "cell_type": "code",
   "execution_count": 8,
   "metadata": {
    "colab": {
     "autoexec": {
      "startup": false,
      "wait_interval": 0
     }
    },
    "colab_type": "code",
    "id": "gkPpZfBOEr4J"
   },
   "outputs": [],
   "source": [
    "def generate_rules(lk, min_conf=0.7):\n",
    "    \"\"\"Genera reglas a partir del conjunto de items frecuentes\n",
    "    \n",
    "    \"\"\"\n",
    "    \n",
    "    rule_list = []\n",
    "    support_data = {freq_item_set:support for freq_item_sets in lk for freq_item_set, support in freq_item_sets.items()}\n",
    "    for i in range(1, len(lk)): #Sólo tomamos los conjuntos de items de más de un elemento.\n",
    "        for freq_item_set in lk[i]:\n",
    "            h1 = [frozenset([item]) for item in freq_item_set]\n",
    "            if i > 1:\n",
    "                rules = rules_from_consequent(support_data, freq_item_set, h1, min_conf)\n",
    "            else:\n",
    "                rules = calculate_conf(support_data, freq_item_set, h1,min_conf)\n",
    "            if rules:\n",
    "                rule_list += rules\n",
    "    return rule_list"
   ]
  },
  {
   "cell_type": "code",
   "execution_count": 9,
   "metadata": {
    "colab": {
     "autoexec": {
      "startup": false,
      "wait_interval": 0
     }
    },
    "colab_type": "code",
    "id": "tF5M9mMAEubR"
   },
   "outputs": [],
   "source": [
    "def print_rules(rules):\n",
    "    \n",
    "    for rule in rules:\n",
    "        print(\"{} ====> {}: {}\".format(\", \".join(map(str,rule[0])), \", \".join(map(str,rule[1])), rule[-1]))\n"
   ]
  },
  {
   "cell_type": "code",
   "execution_count": 10,
   "metadata": {
    "colab": {
     "autoexec": {
      "startup": false,
      "wait_interval": 0
     }
    },
    "colab_type": "code",
    "id": "ehYf6jcuEwuh"
   },
   "outputs": [
    {
     "name": "stdout",
     "output_type": "stream",
     "text": [
      "[[1, 3, 4], [2, 3, 5], [1, 2, 3, 5], [2, 5]]\n"
     ]
    }
   ],
   "source": [
    "transactions_database = load_dataset()\n",
    "print(transactions_database)"
   ]
  },
  {
   "cell_type": "code",
   "execution_count": 11,
   "metadata": {
    "colab": {
     "autoexec": {
      "startup": false,
      "wait_interval": 0
     }
    },
    "colab_type": "code",
    "id": "qjKV7JECE2dJ"
   },
   "outputs": [
    {
     "name": "stdout",
     "output_type": "stream",
     "text": [
      "[frozenset({1}), frozenset({2}), frozenset({3}), frozenset({4}), frozenset({5})]\n"
     ]
    }
   ],
   "source": [
    "ck = create_base_of_items_c0(transactions_database)\n",
    "print(ck)"
   ]
  },
  {
   "cell_type": "code",
   "execution_count": 12,
   "metadata": {
    "colab": {
     "autoexec": {
      "startup": false,
      "wait_interval": 0
     }
    },
    "colab_type": "code",
    "id": "n_o7cSh7E3rb"
   },
   "outputs": [
    {
     "name": "stdout",
     "output_type": "stream",
     "text": [
      "{frozenset({5}): 0.75, frozenset({2}): 0.75, frozenset({3}): 0.75, frozenset({1}): 0.5}\n"
     ]
    }
   ],
   "source": [
    "lk = create_lk(transactions_database, ck, 0.3)\n",
    "print(lk)"
   ]
  },
  {
   "cell_type": "code",
   "execution_count": 13,
   "metadata": {
    "colab": {
     "autoexec": {
      "startup": false,
      "wait_interval": 0
     }
    },
    "colab_type": "code",
    "id": "bGHz-B7DE6bF"
   },
   "outputs": [
    {
     "name": "stdout",
     "output_type": "stream",
     "text": [
      "[{frozenset({5}): 0.75, frozenset({2}): 0.75, frozenset({3}): 0.75, frozenset({1}): 0.5}, {frozenset({1, 3}): 0.5, frozenset({2, 3}): 0.5, frozenset({3, 5}): 0.5, frozenset({2, 5}): 0.75}, {frozenset({2, 3, 5}): 0.5}, {}]\n"
     ]
    }
   ],
   "source": [
    " lk = apriori(transactions_database, 0.3)\n",
    "print(lk)"
   ]
  },
  {
   "cell_type": "code",
   "execution_count": 14,
   "metadata": {
    "colab": {
     "autoexec": {
      "startup": false,
      "wait_interval": 0
     }
    },
    "colab_type": "code",
    "id": "s8CWqPqeE7Bx"
   },
   "outputs": [
    {
     "name": "stdout",
     "output_type": "stream",
     "text": [
      "1 ====> 3: 1.0\n",
      "5 ====> 2: 1.0\n",
      "2 ====> 5: 1.0\n"
     ]
    }
   ],
   "source": [
    "rules=generate_rules(lk, 0.8)\n",
    "print_rules(rules)"
   ]
  },
  {
   "cell_type": "code",
   "execution_count": null,
   "metadata": {},
   "outputs": [],
   "source": []
  }
 ],
 "metadata": {
  "colab": {
   "default_view": {},
   "name": "alg_apriori.ipynb",
   "provenance": [],
   "toc_visible": true,
   "version": "0.3.2",
   "views": {}
  },
  "kernelspec": {
   "display_name": "Python 3",
   "language": "python",
   "name": "python3"
  },
  "language_info": {
   "codemirror_mode": {
    "name": "ipython",
    "version": 3
   },
   "file_extension": ".py",
   "mimetype": "text/x-python",
   "name": "python",
   "nbconvert_exporter": "python",
   "pygments_lexer": "ipython3",
   "version": "3.5.0"
  }
 },
 "nbformat": 4,
 "nbformat_minor": 1
}
